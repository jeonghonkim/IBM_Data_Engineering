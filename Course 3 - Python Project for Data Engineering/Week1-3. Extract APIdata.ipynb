{
 "cells": [
  {
   "cell_type": "markdown",
   "metadata": {},
   "source": [
    "<center>\n",
    "    <img src=\"https://gitlab.com/ibm/skills-network/courses/placeholder101/-/raw/master/labs/module%201/images/IDSNlogo.png\" width=\"300\" alt=\"cognitiveclass.ai logo\"  />\n",
    "</center>\n"
   ]
  },
  {
   "cell_type": "markdown",
   "metadata": {},
   "source": [
    "# Peer Review Assignment - Extract API Data\n"
   ]
  },
  {
   "cell_type": "markdown",
   "metadata": {},
   "source": [
    "Estimated time needed: **20** minutes\n"
   ]
  },
  {
   "cell_type": "markdown",
   "metadata": {},
   "source": [
    "## Objectives\n",
    "\n",
    "In this part you will:\n",
    "\n",
    "*   Collect exchange rate data using an API\n",
    "*   Store the data as a CSV\n"
   ]
  },
  {
   "cell_type": "markdown",
   "metadata": {},
   "source": [
    "For this lab, we are going to be using Python and several Python libraries. Some of these libraries might be installed in your lab environment or in SN Labs. Others may need to be installed by you. The cells below will install these libraries when executed.\n"
   ]
  },
  {
   "cell_type": "code",
   "execution_count": null,
   "metadata": {},
   "outputs": [],
   "source": [
    "#!pip install pandas\n",
    "#!pip install requests"
   ]
  },
  {
   "cell_type": "markdown",
   "metadata": {},
   "source": [
    "## Imports\n",
    "\n",
    "Import any additional libraries you may need here.\n"
   ]
  },
  {
   "cell_type": "code",
   "execution_count": 5,
   "metadata": {},
   "outputs": [],
   "source": [
    "import requests\n",
    "import pandas as pd"
   ]
  },
  {
   "cell_type": "markdown",
   "metadata": {},
   "source": [
    "## Extract Data Using an API\n"
   ]
  },
  {
   "cell_type": "markdown",
   "metadata": {},
   "source": [
    "Using ExchangeRate-API we will extract currency exchange rate data. Use the below steps to get the access key and to get the data.\n",
    "\n",
    "1.  Open the url : [https://exchangeratesapi.io/](https://exchangeratesapi.io/?utm_medium=Exinfluencer&utm_source=Exinfluencer&utm_content=000026UJ&utm_term=10006555&utm_id=NA-SkillsNetwork-Channel-SkillsNetworkCoursesIBMDeveloperSkillsNetworkPY0221ENSkillsNetwork23455645-2021-01-01) and create a free account.\n",
    "2.  Once the account is created. You will get the Get the Free API key option on the top as shown below:\n",
    "\n",
    "<img src=\"https://cf-courses-data.s3.us.cloud-object-storage.appdomain.cloud/IBMDeveloperSkillsNetwork-PY0221EN-SkillsNetwork/labs/module%206/Final%20Assignment/Images/getapi.png\"/>\n",
    "\n",
    "3.  Copy the API key and use in the url in Question 1.\n"
   ]
  },
  {
   "cell_type": "markdown",
   "metadata": {},
   "source": [
    "### Call the API\n",
    "\n",
    "<b> Question 1</b> Using the `requests` library call the endpoint given above and save the text, remember the first few characters of the output:\n"
   ]
  },
  {
   "cell_type": "code",
   "execution_count": 6,
   "metadata": {},
   "outputs": [
    {
     "data": {
      "text/plain": [
       "{'success': True,\n",
       " 'timestamp': 1646058122,\n",
       " 'base': 'EUR',\n",
       " 'date': '2022-02-28',\n",
       " 'rates': {'AED': 4.118218,\n",
       "  'AFN': 102.934563,\n",
       "  'ALL': 121.093006,\n",
       "  'AMD': 539.839774,\n",
       "  'ANG': 2.021722,\n",
       "  'AOA': 556.805383,\n",
       "  'ARS': 120.426809,\n",
       "  'AUD': 1.550445,\n",
       "  'AWG': 2.018489,\n",
       "  'AZN': 1.908692,\n",
       "  'BAM': 1.959023,\n",
       "  'BBD': 2.26479,\n",
       "  'BDT': 96.443594,\n",
       "  'BGN': 1.957965,\n",
       "  'BHD': 0.422695,\n",
       "  'BIF': 2257.030471,\n",
       "  'BMD': 1.121227,\n",
       "  'BND': 1.523009,\n",
       "  'BOB': 7.723324,\n",
       "  'BRL': 5.776058,\n",
       "  'BSD': 1.121678,\n",
       "  'BTC': 2.8924409e-05,\n",
       "  'BTN': 84.61741,\n",
       "  'BWP': 13.074082,\n",
       "  'BYN': 3.49139,\n",
       "  'BYR': 21976.054263,\n",
       "  'BZD': 2.260984,\n",
       "  'CAD': 1.427272,\n",
       "  'CDF': 2258.152229,\n",
       "  'CHF': 1.03024,\n",
       "  'CLF': 0.032429,\n",
       "  'CLP': 894.907582,\n",
       "  'CNY': 7.075838,\n",
       "  'COP': 4387.070743,\n",
       "  'CRC': 719.200005,\n",
       "  'CUC': 1.121227,\n",
       "  'CUP': 29.712522,\n",
       "  'CVE': 110.386417,\n",
       "  'CZK': 24.983303,\n",
       "  'DJF': 199.68028,\n",
       "  'DKK': 7.440503,\n",
       "  'DOP': 61.11267,\n",
       "  'DZD': 157.924822,\n",
       "  'EGP': 17.611,\n",
       "  'ERN': 16.818431,\n",
       "  'ETB': 56.969163,\n",
       "  'EUR': 1,\n",
       "  'FJD': 2.388648,\n",
       "  'FKP': 0.816164,\n",
       "  'GBP': 0.836329,\n",
       "  'GEL': 3.478839,\n",
       "  'GGP': 0.816164,\n",
       "  'GHS': 7.652414,\n",
       "  'GIP': 0.816163,\n",
       "  'GMD': 59.761514,\n",
       "  'GNF': 10066.937422,\n",
       "  'GTQ': 8.662617,\n",
       "  'GYD': 234.686654,\n",
       "  'HKD': 8.762273,\n",
       "  'HNL': 27.486886,\n",
       "  'HRK': 7.564024,\n",
       "  'HTG': 117.376859,\n",
       "  'HUF': 371.675311,\n",
       "  'IDR': 16146.008888,\n",
       "  'ILS': 3.616956,\n",
       "  'IMP': 0.816163,\n",
       "  'INR': 84.655981,\n",
       "  'IQD': 1636.431184,\n",
       "  'IRR': 47371.851745,\n",
       "  'ISK': 142.025849,\n",
       "  'JEP': 0.816164,\n",
       "  'JMD': 173.849648,\n",
       "  'JOD': 0.794914,\n",
       "  'JPY': 129.303247,\n",
       "  'KES': 127.651895,\n",
       "  'KGS': 104.600429,\n",
       "  'KHR': 4557.789133,\n",
       "  'KMF': 491.518029,\n",
       "  'KPW': 1009.104708,\n",
       "  'KRW': 1350.243568,\n",
       "  'KWD': 0.339788,\n",
       "  'KYD': 0.934836,\n",
       "  'KZT': 549.225069,\n",
       "  'LAK': 12765.172493,\n",
       "  'LBP': 1700.901938,\n",
       "  'LKR': 226.596225,\n",
       "  'LRD': 172.899059,\n",
       "  'LSL': 17.043892,\n",
       "  'LTL': 3.310693,\n",
       "  'LVL': 0.678219,\n",
       "  'LYD': 5.140819,\n",
       "  'MAD': 10.644073,\n",
       "  'MDL': 20.640037,\n",
       "  'MGA': 4468.090355,\n",
       "  'MKD': 61.715578,\n",
       "  'MMK': 1994.663473,\n",
       "  'MNT': 3205.399428,\n",
       "  'MOP': 9.028775,\n",
       "  'MRO': 400.277938,\n",
       "  'MUR': 48.762133,\n",
       "  'MVR': 17.323196,\n",
       "  'MWK': 900.90155,\n",
       "  'MXN': 22.828468,\n",
       "  'MYR': 4.712731,\n",
       "  'MZN': 71.567698,\n",
       "  'NAD': 17.044709,\n",
       "  'NGN': 466.452865,\n",
       "  'NIO': 39.758778,\n",
       "  'NOK': 9.934909,\n",
       "  'NPR': 135.388056,\n",
       "  'NZD': 1.663088,\n",
       "  'OMR': 0.431663,\n",
       "  'PAB': 1.121678,\n",
       "  'PEN': 4.259542,\n",
       "  'PGK': 3.941095,\n",
       "  'PHP': 57.506665,\n",
       "  'PKR': 196.494963,\n",
       "  'PLN': 4.698888,\n",
       "  'PYG': 7895.573004,\n",
       "  'QAR': 4.082413,\n",
       "  'RON': 4.948542,\n",
       "  'RSD': 117.639361,\n",
       "  'RUB': 110.446458,\n",
       "  'RWF': 1138.045667,\n",
       "  'SAR': 4.206734,\n",
       "  'SBD': 9.060459,\n",
       "  'SCR': 16.144952,\n",
       "  'SDG': 499.500106,\n",
       "  'SEK': 10.620674,\n",
       "  'SGD': 1.522363,\n",
       "  'SHP': 1.54438,\n",
       "  'SLL': 13118.358926,\n",
       "  'SOS': 657.03907,\n",
       "  'SRD': 22.936384,\n",
       "  'STD': 23207.140499,\n",
       "  'SVC': 9.814557,\n",
       "  'SYP': 2816.522621,\n",
       "  'SZL': 17.047344,\n",
       "  'THB': 36.642266,\n",
       "  'TJS': 12.664439,\n",
       "  'TMT': 3.935508,\n",
       "  'TND': 3.239219,\n",
       "  'TOP': 2.565536,\n",
       "  'TRY': 15.493341,\n",
       "  'TTD': 7.611665,\n",
       "  'TWD': 31.467582,\n",
       "  'TZS': 2596.762346,\n",
       "  'UAH': 33.708434,\n",
       "  'UGX': 3979.683972,\n",
       "  'USD': 1.121227,\n",
       "  'UYU': 47.433937,\n",
       "  'UZS': 12182.134571,\n",
       "  'VEF': 239752273940.9833,\n",
       "  'VND': 25575.193763,\n",
       "  'VUV': 127.451488,\n",
       "  'WST': 2.92903,\n",
       "  'XAF': 657.039494,\n",
       "  'XAG': 0.049791,\n",
       "  'XAU': 0.00062,\n",
       "  'XCD': 3.030173,\n",
       "  'XDR': 0.804626,\n",
       "  'XOF': 655.350808,\n",
       "  'XPF': 119.3549,\n",
       "  'YER': 280.587282,\n",
       "  'ZAR': 17.308183,\n",
       "  'ZMK': 10092.387836,\n",
       "  'ZMW': 19.904273,\n",
       "  'ZWL': 361.03472}}"
      ]
     },
     "execution_count": 6,
     "metadata": {},
     "output_type": "execute_result"
    }
   ],
   "source": [
    "# Write your code here\n",
    "url = \"http://api.exchangeratesapi.io/v1/latest?base=EUR&access_key=e634198b3a98a6fea3c40a9e0728147a\"\n",
    "data = requests.get(url).json()\n",
    "data"
   ]
  },
  {
   "cell_type": "markdown",
   "metadata": {},
   "source": [
    "### Save as DataFrame\n",
    "\n",
    "<b> Question 2</b>  Using the data gathered turn it into a `pandas` dataframe. The dataframe should have the Currency as the index and `Rate` as their columns. Make sure to drop unnecessary columns.\n"
   ]
  },
  {
   "cell_type": "code",
   "execution_count": 7,
   "metadata": {},
   "outputs": [
    {
     "data": {
      "text/html": [
       "<div>\n",
       "<style scoped>\n",
       "    .dataframe tbody tr th:only-of-type {\n",
       "        vertical-align: middle;\n",
       "    }\n",
       "\n",
       "    .dataframe tbody tr th {\n",
       "        vertical-align: top;\n",
       "    }\n",
       "\n",
       "    .dataframe thead th {\n",
       "        text-align: right;\n",
       "    }\n",
       "</style>\n",
       "<table border=\"1\" class=\"dataframe\">\n",
       "  <thead>\n",
       "    <tr style=\"text-align: right;\">\n",
       "      <th></th>\n",
       "      <th>success</th>\n",
       "      <th>timestamp</th>\n",
       "      <th>base</th>\n",
       "      <th>date</th>\n",
       "      <th>rates</th>\n",
       "    </tr>\n",
       "  </thead>\n",
       "  <tbody>\n",
       "    <tr>\n",
       "      <th>AED</th>\n",
       "      <td>True</td>\n",
       "      <td>1646058122</td>\n",
       "      <td>EUR</td>\n",
       "      <td>2022-02-28</td>\n",
       "      <td>4.118218</td>\n",
       "    </tr>\n",
       "    <tr>\n",
       "      <th>AFN</th>\n",
       "      <td>True</td>\n",
       "      <td>1646058122</td>\n",
       "      <td>EUR</td>\n",
       "      <td>2022-02-28</td>\n",
       "      <td>102.934563</td>\n",
       "    </tr>\n",
       "    <tr>\n",
       "      <th>ALL</th>\n",
       "      <td>True</td>\n",
       "      <td>1646058122</td>\n",
       "      <td>EUR</td>\n",
       "      <td>2022-02-28</td>\n",
       "      <td>121.093006</td>\n",
       "    </tr>\n",
       "    <tr>\n",
       "      <th>AMD</th>\n",
       "      <td>True</td>\n",
       "      <td>1646058122</td>\n",
       "      <td>EUR</td>\n",
       "      <td>2022-02-28</td>\n",
       "      <td>539.839774</td>\n",
       "    </tr>\n",
       "    <tr>\n",
       "      <th>ANG</th>\n",
       "      <td>True</td>\n",
       "      <td>1646058122</td>\n",
       "      <td>EUR</td>\n",
       "      <td>2022-02-28</td>\n",
       "      <td>2.021722</td>\n",
       "    </tr>\n",
       "    <tr>\n",
       "      <th>...</th>\n",
       "      <td>...</td>\n",
       "      <td>...</td>\n",
       "      <td>...</td>\n",
       "      <td>...</td>\n",
       "      <td>...</td>\n",
       "    </tr>\n",
       "    <tr>\n",
       "      <th>YER</th>\n",
       "      <td>True</td>\n",
       "      <td>1646058122</td>\n",
       "      <td>EUR</td>\n",
       "      <td>2022-02-28</td>\n",
       "      <td>280.587282</td>\n",
       "    </tr>\n",
       "    <tr>\n",
       "      <th>ZAR</th>\n",
       "      <td>True</td>\n",
       "      <td>1646058122</td>\n",
       "      <td>EUR</td>\n",
       "      <td>2022-02-28</td>\n",
       "      <td>17.308183</td>\n",
       "    </tr>\n",
       "    <tr>\n",
       "      <th>ZMK</th>\n",
       "      <td>True</td>\n",
       "      <td>1646058122</td>\n",
       "      <td>EUR</td>\n",
       "      <td>2022-02-28</td>\n",
       "      <td>10092.387836</td>\n",
       "    </tr>\n",
       "    <tr>\n",
       "      <th>ZMW</th>\n",
       "      <td>True</td>\n",
       "      <td>1646058122</td>\n",
       "      <td>EUR</td>\n",
       "      <td>2022-02-28</td>\n",
       "      <td>19.904273</td>\n",
       "    </tr>\n",
       "    <tr>\n",
       "      <th>ZWL</th>\n",
       "      <td>True</td>\n",
       "      <td>1646058122</td>\n",
       "      <td>EUR</td>\n",
       "      <td>2022-02-28</td>\n",
       "      <td>361.034720</td>\n",
       "    </tr>\n",
       "  </tbody>\n",
       "</table>\n",
       "<p>168 rows × 5 columns</p>\n",
       "</div>"
      ],
      "text/plain": [
       "     success   timestamp base        date         rates\n",
       "AED     True  1646058122  EUR  2022-02-28      4.118218\n",
       "AFN     True  1646058122  EUR  2022-02-28    102.934563\n",
       "ALL     True  1646058122  EUR  2022-02-28    121.093006\n",
       "AMD     True  1646058122  EUR  2022-02-28    539.839774\n",
       "ANG     True  1646058122  EUR  2022-02-28      2.021722\n",
       "..       ...         ...  ...         ...           ...\n",
       "YER     True  1646058122  EUR  2022-02-28    280.587282\n",
       "ZAR     True  1646058122  EUR  2022-02-28     17.308183\n",
       "ZMK     True  1646058122  EUR  2022-02-28  10092.387836\n",
       "ZMW     True  1646058122  EUR  2022-02-28     19.904273\n",
       "ZWL     True  1646058122  EUR  2022-02-28    361.034720\n",
       "\n",
       "[168 rows x 5 columns]"
      ]
     },
     "execution_count": 7,
     "metadata": {},
     "output_type": "execute_result"
    }
   ],
   "source": [
    "# Turn the data into a dataframe\n",
    "df = pd.DataFrame.from_dict(data)\n",
    "df"
   ]
  },
  {
   "cell_type": "code",
   "execution_count": 8,
   "metadata": {},
   "outputs": [
    {
     "data": {
      "text/html": [
       "<div>\n",
       "<style scoped>\n",
       "    .dataframe tbody tr th:only-of-type {\n",
       "        vertical-align: middle;\n",
       "    }\n",
       "\n",
       "    .dataframe tbody tr th {\n",
       "        vertical-align: top;\n",
       "    }\n",
       "\n",
       "    .dataframe thead th {\n",
       "        text-align: right;\n",
       "    }\n",
       "</style>\n",
       "<table border=\"1\" class=\"dataframe\">\n",
       "  <thead>\n",
       "    <tr style=\"text-align: right;\">\n",
       "      <th></th>\n",
       "      <th>rates</th>\n",
       "    </tr>\n",
       "  </thead>\n",
       "  <tbody>\n",
       "    <tr>\n",
       "      <th>AED</th>\n",
       "      <td>4.118218</td>\n",
       "    </tr>\n",
       "    <tr>\n",
       "      <th>AFN</th>\n",
       "      <td>102.934563</td>\n",
       "    </tr>\n",
       "    <tr>\n",
       "      <th>ALL</th>\n",
       "      <td>121.093006</td>\n",
       "    </tr>\n",
       "    <tr>\n",
       "      <th>AMD</th>\n",
       "      <td>539.839774</td>\n",
       "    </tr>\n",
       "    <tr>\n",
       "      <th>ANG</th>\n",
       "      <td>2.021722</td>\n",
       "    </tr>\n",
       "    <tr>\n",
       "      <th>...</th>\n",
       "      <td>...</td>\n",
       "    </tr>\n",
       "    <tr>\n",
       "      <th>YER</th>\n",
       "      <td>280.587282</td>\n",
       "    </tr>\n",
       "    <tr>\n",
       "      <th>ZAR</th>\n",
       "      <td>17.308183</td>\n",
       "    </tr>\n",
       "    <tr>\n",
       "      <th>ZMK</th>\n",
       "      <td>10092.387836</td>\n",
       "    </tr>\n",
       "    <tr>\n",
       "      <th>ZMW</th>\n",
       "      <td>19.904273</td>\n",
       "    </tr>\n",
       "    <tr>\n",
       "      <th>ZWL</th>\n",
       "      <td>361.034720</td>\n",
       "    </tr>\n",
       "  </tbody>\n",
       "</table>\n",
       "<p>168 rows × 1 columns</p>\n",
       "</div>"
      ],
      "text/plain": [
       "            rates\n",
       "AED      4.118218\n",
       "AFN    102.934563\n",
       "ALL    121.093006\n",
       "AMD    539.839774\n",
       "ANG      2.021722\n",
       "..            ...\n",
       "YER    280.587282\n",
       "ZAR     17.308183\n",
       "ZMK  10092.387836\n",
       "ZMW     19.904273\n",
       "ZWL    361.034720\n",
       "\n",
       "[168 rows x 1 columns]"
      ]
     },
     "execution_count": 8,
     "metadata": {},
     "output_type": "execute_result"
    }
   ],
   "source": [
    "# Drop unnescessary columns\n",
    "df_drop = df[['rates']] \n",
    "df_drop"
   ]
  },
  {
   "cell_type": "markdown",
   "metadata": {},
   "source": [
    "### Load the Data\n",
    "\n",
    "Using the dataframe save it as a CSV names `exchange_rates_1.csv`.\n"
   ]
  },
  {
   "cell_type": "code",
   "execution_count": 9,
   "metadata": {},
   "outputs": [],
   "source": [
    "# Save the Dataframe\n",
    "df.to_csv(r'C:\\Users\\user\\Downloads\\exchange_rates_1.csv')"
   ]
  },
  {
   "cell_type": "markdown",
   "metadata": {},
   "source": [
    "Your CSV should be in this format with more currencies\n",
    "\n",
    "|     | Rates      |\n",
    "| --- | ---------- |\n",
    "| AED | 4.398618   |\n",
    "| AFN | 92.917693  |\n",
    "| ALL | 123.099093 |\n",
    "| AMD | 621.935674 |\n",
    "| ANG | 2.149648   |\n"
   ]
  },
  {
   "cell_type": "markdown",
   "metadata": {},
   "source": [
    "   "
   ]
  },
  {
   "cell_type": "markdown",
   "metadata": {},
   "source": [
    "## Authors\n"
   ]
  },
  {
   "cell_type": "markdown",
   "metadata": {},
   "source": [
    "Ramesh Sannareddy, Joseph Santarcangelo and Azim Hirjani\n"
   ]
  },
  {
   "cell_type": "markdown",
   "metadata": {},
   "source": [
    "### Other Contributors\n"
   ]
  },
  {
   "cell_type": "markdown",
   "metadata": {},
   "source": [
    "Rav Ahuja\n"
   ]
  },
  {
   "cell_type": "markdown",
   "metadata": {},
   "source": [
    "## Change Log\n"
   ]
  },
  {
   "cell_type": "markdown",
   "metadata": {},
   "source": [
    "| Date (YYYY-MM-DD) | Version | Changed By        | Change Description                 |\n",
    "| ----------------- | ------- | ----------------- | ---------------------------------- |\n",
    "| 2021-04-15        | 0.2     | Malika            | Updated the lab from USD to EUR    |\n",
    "| 2020-11-25        | 0.1     | Ramesh Sannareddy | Created initial version of the lab |\n"
   ]
  },
  {
   "cell_type": "markdown",
   "metadata": {},
   "source": [
    "Copyright © 2020 IBM Corporation. This notebook and its source code are released under the terms of the [MIT License](https://cognitiveclass.ai/mit-license?utm_medium=Exinfluencer&utm_source=Exinfluencer&utm_content=000026UJ&utm_term=10006555&utm_id=NA-SkillsNetwork-Channel-SkillsNetworkCoursesIBMDeveloperSkillsNetworkPY0221ENSkillsNetwork23455645-2021-01-01&cm_mmc=Email_Newsletter-\\_-Developer_Ed%2BTech-\\_-WW_WW-\\_-SkillsNetwork-Courses-IBM-DA0321EN-SkillsNetwork-21426264&cm_mmca1=000026UJ&cm_mmca2=10006555&cm_mmca3=M12345678&cvosrc=email.Newsletter.M12345678&cvo_campaign=000026UJ).\n"
   ]
  }
 ],
 "metadata": {
  "kernelspec": {
   "display_name": "Python",
   "language": "python",
   "name": "conda-env-python-py"
  },
  "language_info": {
   "codemirror_mode": {
    "name": "ipython",
    "version": 3
   },
   "file_extension": ".py",
   "mimetype": "text/x-python",
   "name": "python",
   "nbconvert_exporter": "python",
   "pygments_lexer": "ipython3",
   "version": "3.7.12"
  }
 },
 "nbformat": 4,
 "nbformat_minor": 4
}
